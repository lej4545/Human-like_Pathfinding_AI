{
 "cells": [
  {
   "cell_type": "code",
   "execution_count": null,
   "id": "e1475f75",
   "metadata": {},
   "outputs": [],
   "source": [
    "import os\n",
    "import numpy as np\n",
    "import pandas as pd\n",
    "import tensorflow as tf\n",
    "from tensorflow.keras.models import Model\n",
    "from tensorflow.keras.layers import Input, LSTM, Embedding, Dense\n",
    "from tensorflow.keras.callbacks import ModelCheckpoint\n",
    "from tensorflow.keras.preprocessing.sequence import pad_sequences\n",
    "from tensorflow.keras.utils import to_categorical"
   ]
  },
  {
   "cell_type": "code",
   "execution_count": null,
   "id": "3cffd9ac",
   "metadata": {
    "scrolled": true
   },
   "outputs": [],
   "source": [
    "src_dataset = np.load(file='C:/Users/USER/TF_2_6/user_source.npy', allow_pickle=True)\n",
    "tar_dataset = np.load(file='C:/Users/USER/TF_2_6/user_target.npy', allow_pickle=True)\n",
    "\n",
    "#print(len(src_dataset))\n",
    "#print(len(tar_dataset))"
   ]
  },
  {
   "cell_type": "code",
   "execution_count": null,
   "id": "d23d6e15",
   "metadata": {},
   "outputs": [],
   "source": [
    "src_df = pd.DataFrame({'src':[]})\n",
    "for i in range(len(src_dataset)):\n",
    "    src_df.loc[i] = [src_dataset[i]]\n",
    "\n",
    "tar_df = pd.DataFrame({'tar':[]})\n",
    "for i in range(len(tar_dataset)):\n",
    "    tar_df.loc[i] = [tar_dataset[i]]\n",
    "\n",
    "df = pd.concat([src_df, tar_df], axis=1)\n",
    "df.head()"
   ]
  },
  {
   "cell_type": "code",
   "execution_count": null,
   "id": "6c093517",
   "metadata": {},
   "outputs": [],
   "source": [
    "'''\n",
    "df.tar\n",
    "\n",
    "for i in range(len(df.tar.values)):\n",
    "    df.values[i] = '\\t' + str(df.values[i]) + '\\n'\n",
    "\n",
    "df.tar\n",
    "'''"
   ]
  },
  {
   "cell_type": "code",
   "execution_count": null,
   "id": "0c901abf",
   "metadata": {
    "scrolled": true
   },
   "outputs": [],
   "source": [
    "# <sos> = '\\t', <eos> = '\\n'\n",
    "df.tar = df.tar.apply(lambda x : [[0, 0]] + x + [[-1, -1]])\n",
    "df.sample(10)"
   ]
  },
  {
   "cell_type": "code",
   "execution_count": null,
   "id": "8b7620c2",
   "metadata": {},
   "outputs": [],
   "source": [
    "'''\n",
    "len(df.src[0])\n",
    "df.src[0][0]\n",
    "'''\n",
    "len(df.tar)"
   ]
  },
  {
   "cell_type": "code",
   "execution_count": null,
   "id": "982a46d4",
   "metadata": {},
   "outputs": [],
   "source": [
    "# coordinate set\n",
    "src_coordinate = []\n",
    "for line in df.src :\n",
    "    for i in range(len(line)) :\n",
    "        src_coordinate.append(line[i])\n",
    "\n",
    "tar_coordinate = []\n",
    "for line in df.tar :\n",
    "    for i in range(len(line)) :\n",
    "        tar_coordinate.append(line[i])\n",
    "\n",
    "# size of coordinate set\n",
    "src_coordinate_size = len(src_coordinate) + 1\n",
    "tar_coordinate_size = len(tar_coordinate) + 1\n",
    "\n",
    "# sort and assign index -> check error\n",
    "#src_coordinate = sorted(list(src_coordinate))\n",
    "#tar_coordinate = sorted(list(tar_coordinate))\n",
    "\n",
    "# {[lat, lon]:1, [lat, lon]:2, ...}\n",
    "src_to_index = dict([(tuple(coordinate), i+1) for i, coordinate in enumerate(src_coordinate)])\n",
    "tar_to_index = dict([(tuple(coordinate), i+1) for i, coordinate in enumerate(tar_coordinate)])"
   ]
  },
  {
   "cell_type": "code",
   "execution_count": null,
   "id": "e85a4fc4",
   "metadata": {},
   "outputs": [],
   "source": [
    "\n",
    "print(src_to_index)\n",
    "print(tar_to_index)\n",
    "\n",
    "#print(src_coordinate_size)\n",
    "#print(tar_coordinate_size)"
   ]
  },
  {
   "cell_type": "code",
   "execution_count": null,
   "id": "f6623627",
   "metadata": {},
   "outputs": [],
   "source": [
    "# encoding\n",
    "encoder_input = []\n",
    "for line in df.src :\n",
    "    temp_X = []\n",
    "    for c in line :\n",
    "        temp_X.append(src_to_index[tuple(c)]) # 딕셔너리의 키는 리스트 불가(튜플은 가능)\n",
    "    encoder_input.append(temp_X)\n",
    "#print(encoder_input[:5])"
   ]
  },
  {
   "cell_type": "code",
   "execution_count": null,
   "id": "7531ea6a",
   "metadata": {
    "scrolled": true
   },
   "outputs": [],
   "source": [
    "# decoding\n",
    "decoder_input = []\n",
    "for line in df.tar :\n",
    "    temp_X = []\n",
    "    for c in line :\n",
    "        temp_X.append(tar_to_index[tuple(c)])\n",
    "    decoder_input.append(temp_X)\n",
    "print(decoder_input[:5])"
   ]
  },
  {
   "cell_type": "code",
   "execution_count": null,
   "id": "1667b2b2",
   "metadata": {
    "scrolled": true
   },
   "outputs": [],
   "source": [
    "# !!! this code might be not used !!!\n",
    "# remove start symbol of target which is used for test\n",
    "decoder_target = []\n",
    "for line in df.tar :\n",
    "    t = 0\n",
    "    temp_X = []\n",
    "    for c in line :\n",
    "        if t > 0 :\n",
    "            temp_X.append(tar_to_index[tuple(c)])\n",
    "        t += 1\n",
    "    decoder_target.append(temp_X)\n",
    "print(decoder_target[:5])"
   ]
  },
  {
   "cell_type": "code",
   "execution_count": null,
   "id": "75de83e2",
   "metadata": {},
   "outputs": [],
   "source": [
    "# padding\n",
    "max_src_len = max([len(line) for line in df.src])\n",
    "max_tar_len = max([len(line) for line in df.tar])\n",
    "print(max_src_len)\n",
    "print(max_tar_len)"
   ]
  },
  {
   "cell_type": "code",
   "execution_count": null,
   "id": "a98f9b2f",
   "metadata": {},
   "outputs": [],
   "source": [
    "encoder_input = pad_sequences(encoder_input, maxlen=max_src_len, padding='post')\n",
    "decoder_input = pad_sequences(decoder_input, maxlen=max_tar_len, padding='post')\n",
    "decoder_target = pad_sequences(decoder_target, maxlen=max_tar_len, padding='post')"
   ]
  },
  {
   "cell_type": "code",
   "execution_count": null,
   "id": "cc3abde8",
   "metadata": {},
   "outputs": [],
   "source": [
    "print(len(encoder_input))\n",
    "print(len(decoder_input))\n",
    "print(len(decoder_target))"
   ]
  },
  {
   "cell_type": "code",
   "execution_count": null,
   "id": "a7baad53",
   "metadata": {
    "scrolled": true
   },
   "outputs": [],
   "source": [
    "# one-hot encoding\n",
    "encoder_input = to_categorical(encoder_input)\n",
    "decoder_input = to_categorical(decoder_input)\n",
    "decoder_target = to_categorical(decoder_target)"
   ]
  },
  {
   "cell_type": "code",
   "execution_count": null,
   "id": "74c4d840",
   "metadata": {},
   "outputs": [],
   "source": [
    "# seq2seq model teacher forcing\n",
    "encoder_inputs = Input(shape=(None, src_coordinate_size))\n",
    "# hidden state size is 256, return encoder state to decoder\n",
    "encoder_lstm = LSTM(units=512, return_state=True)\n",
    "# encoder outputs, hidden state, cell state\n",
    "encoder_outputs, state_h, state_c = encoder_lstm(encoder_inputs)\n",
    "encoder_states = [state_h, state_c]\n",
    "\n",
    "decoder_inputs = Input(shape=(None, tar_coordinate_size))\n",
    "decoder_lstm = LSTM(units=512, return_sequences=True, return_state=True)\n",
    "# use last encoder state as initial state\n",
    "decoder_outputs, _, _ = decoder_lstm(decoder_inputs, initial_state=encoder_states)\n",
    "# assign nodes as size of target coordinate\n",
    "decoder_softmax_layer = Dense(tar_coordinate_size, activation='softmax')\n",
    "decoder_outputs = decoder_softmax_layer(decoder_outputs)\n",
    "\n",
    "model = Model([encoder_inputs, decoder_inputs], decoder_outputs)\n",
    "model.compile(optimizer='rmsprop', loss='categorical_crossentropy')\n",
    "\n",
    "MODEL_DIR = './model/'\n",
    "if not os.path.exists(MODEL_DIR) :\n",
    "    os.mkdir(MODEL_DIR)\n",
    "\n",
    "modelpath = './model/{epoch:02d}-{val_loss:.4f}.hdf5'\n",
    "checkpointer = ModelCheckpoint(filepath=modelpath, monitor='val_loss', verbose=1, save_best_only=True)"
   ]
  },
  {
   "cell_type": "code",
   "execution_count": null,
   "id": "897faac9",
   "metadata": {},
   "outputs": [],
   "source": [
    "# !!! control batch_size, epochs to avoid overfitting !!!\n",
    "#np.expand_dims(encoder_input, axis = 0)\n",
    "model.fit(x=[encoder_input, decoder_input], y=decoder_target,\n",
    "          batch_size=64, epochs=50, validation_split=0.2, callbacks=[checkpointer])"
   ]
  },
  {
   "cell_type": "code",
   "execution_count": null,
   "id": "608255b8",
   "metadata": {},
   "outputs": [],
   "source": [
    "model.save('final_project.h5')"
   ]
  },
  {
   "cell_type": "code",
   "execution_count": null,
   "id": "cec03407",
   "metadata": {},
   "outputs": [],
   "source": []
  }
 ],
 "metadata": {
  "kernelspec": {
   "display_name": "Python 3 (ipykernel)",
   "language": "python",
   "name": "python3"
  },
  "language_info": {
   "codemirror_mode": {
    "name": "ipython",
    "version": 3
   },
   "file_extension": ".py",
   "mimetype": "text/x-python",
   "name": "python",
   "nbconvert_exporter": "python",
   "pygments_lexer": "ipython3",
   "version": "3.9.7"
  }
 },
 "nbformat": 4,
 "nbformat_minor": 5
}
