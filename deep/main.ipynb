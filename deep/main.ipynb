{
 "cells": [
  {
   "cell_type": "code",
   "execution_count": 1,
   "id": "e1475f75",
   "metadata": {},
   "outputs": [],
   "source": [
    "import os\n",
    "import numpy as np\n",
    "import pandas as pd\n",
    "import tensorflow as tf\n",
    "from tensorflow.keras.models import Model\n",
    "from tensorflow.keras.layers import Input, LSTM, Embedding, Dense\n",
    "from tensorflow.keras.callbacks import ModelCheckpoint\n",
    "from tensorflow.keras.preprocessing.sequence import pad_sequences\n",
    "from tensorflow.keras.utils import to_categorical"
   ]
  },
  {
   "cell_type": "code",
   "execution_count": 2,
   "id": "3cffd9ac",
   "metadata": {
    "scrolled": true
   },
   "outputs": [
    {
     "name": "stdout",
     "output_type": "stream",
     "text": [
      "426\n",
      "426\n"
     ]
    }
   ],
   "source": [
    "src_dataset = np.load(file='user_source.npy', allow_pickle=True)\n",
    "tar_dataset = np.load(file='user_target.npy', allow_pickle=True)\n",
    "\n",
    "print(len(src_dataset))\n",
    "print(len(tar_dataset))"
   ]
  },
  {
   "cell_type": "code",
   "execution_count": 3,
   "id": "d23d6e15",
   "metadata": {},
   "outputs": [
    {
     "data": {
      "text/html": [
       "<div>\n",
       "<style scoped>\n",
       "    .dataframe tbody tr th:only-of-type {\n",
       "        vertical-align: middle;\n",
       "    }\n",
       "\n",
       "    .dataframe tbody tr th {\n",
       "        vertical-align: top;\n",
       "    }\n",
       "\n",
       "    .dataframe thead th {\n",
       "        text-align: right;\n",
       "    }\n",
       "</style>\n",
       "<table border=\"1\" class=\"dataframe\">\n",
       "  <thead>\n",
       "    <tr style=\"text-align: right;\">\n",
       "      <th></th>\n",
       "      <th>src</th>\n",
       "      <th>tar</th>\n",
       "    </tr>\n",
       "  </thead>\n",
       "  <tbody>\n",
       "    <tr>\n",
       "      <th>0</th>\n",
       "      <td>[[39.9844254, 116.3101288], [39.9841684, 116.2...</td>\n",
       "      <td>[[39.984702, 116.318417], [39.984683, 116.3184...</td>\n",
       "    </tr>\n",
       "    <tr>\n",
       "      <th>1</th>\n",
       "      <td>[[39.990832, 116.309828], [39.988258, 116.2933...</td>\n",
       "      <td>[[39.995777, 116.286798], [39.996832, 116.2854...</td>\n",
       "    </tr>\n",
       "    <tr>\n",
       "      <th>2</th>\n",
       "      <td>[[40.0087849, 116.3218099], [40.0089858, 116.3...</td>\n",
       "      <td>[[40.008921, 116.321484], [40.008582, 116.3222...</td>\n",
       "    </tr>\n",
       "    <tr>\n",
       "      <th>3</th>\n",
       "      <td>[[40.00815, 116.3204629], [40.0092487, 116.318...</td>\n",
       "      <td>[[40.009351, 116.321916], [40.009336, 116.3218...</td>\n",
       "    </tr>\n",
       "    <tr>\n",
       "      <th>4</th>\n",
       "      <td>[[40.00815, 116.3204629], [40.0088233, 116.321...</td>\n",
       "      <td>[[40.006747, 116.318549], [40.006747, 116.3185...</td>\n",
       "    </tr>\n",
       "  </tbody>\n",
       "</table>\n",
       "</div>"
      ],
      "text/plain": [
       "                                                 src  \\\n",
       "0  [[39.9844254, 116.3101288], [39.9841684, 116.2...   \n",
       "1  [[39.990832, 116.309828], [39.988258, 116.2933...   \n",
       "2  [[40.0087849, 116.3218099], [40.0089858, 116.3...   \n",
       "3  [[40.00815, 116.3204629], [40.0092487, 116.318...   \n",
       "4  [[40.00815, 116.3204629], [40.0088233, 116.321...   \n",
       "\n",
       "                                                 tar  \n",
       "0  [[39.984702, 116.318417], [39.984683, 116.3184...  \n",
       "1  [[39.995777, 116.286798], [39.996832, 116.2854...  \n",
       "2  [[40.008921, 116.321484], [40.008582, 116.3222...  \n",
       "3  [[40.009351, 116.321916], [40.009336, 116.3218...  \n",
       "4  [[40.006747, 116.318549], [40.006747, 116.3185...  "
      ]
     },
     "execution_count": 3,
     "metadata": {},
     "output_type": "execute_result"
    }
   ],
   "source": [
    "src_df = pd.DataFrame({'src':[]})\n",
    "for i in range(len(src_dataset)) :\n",
    "    src_df.loc[i] = [src_dataset[i]]\n",
    "\n",
    "tar_df = pd.DataFrame({'tar':[]})\n",
    "for i in range(len(tar_dataset)) :\n",
    "    tar_df.loc[i] = [tar_dataset[i]]\n",
    "\n",
    "df = pd.concat([src_df, tar_df], axis=1)\n",
    "df.head()"
   ]
  },
  {
   "cell_type": "code",
   "execution_count": null,
   "id": "0c901abf",
   "metadata": {},
   "outputs": [],
   "source": [
    "# <sos> '\\t', <eos> '\\n'\n",
    "#df.tar = df.tar.apply(lambda x : '\\t' + x + '\\n')\n",
    "#lines.sample(10)"
   ]
  },
  {
   "cell_type": "code",
   "execution_count": null,
   "id": "982a46d4",
   "metadata": {},
   "outputs": [],
   "source": [
    "# coordinate set\n",
    "src_coordinate = set()\n",
    "for line in lines.src :\n",
    "    for i in range(len(line)) :\n",
    "        src_coordinate.add(line[i])\n",
    "\n",
    "tar_coordinate = set()\n",
    "for line in lines.tar :\n",
    "    for i in range(len(line)) :\n",
    "        tar_coordinate.add(line[i])\n",
    "\n",
    "# size of coordinate set\n",
    "src_coordinate_size = len(src_coordinate) + 1\n",
    "tar_coordinate_size = len(tar_coordinate) + 1\n",
    "\n",
    "# sort and assign index -> check error\n",
    "#src_coordinate = sorted(list(src_coordinate))\n",
    "#tar_coordinate = sorted(list(tar_coordinate))\n",
    "\n",
    "# {[lat, lon]:1, [lat, lon]:2, ...}\n",
    "src_to_index = dict([(coordinate, i+1) for i, coordinate in enumerate(src_coordinate)])\n",
    "tar_to_index = dict([(coordinate, i+1) for i, coordinate in enumerate(tar_coordinate)])"
   ]
  },
  {
   "cell_type": "code",
   "execution_count": null,
   "id": "f6623627",
   "metadata": {},
   "outputs": [],
   "source": [
    "# encoding\n",
    "encoder_input = []\n",
    "for line in lines.src :\n",
    "    temp_X = []\n",
    "    for c in line :\n",
    "        temp_X.append(src_to_index[c])\n",
    "    encoder_input.append(temp_X)\n",
    "#print(encoder_input[:5])"
   ]
  },
  {
   "cell_type": "code",
   "execution_count": null,
   "id": "7531ea6a",
   "metadata": {},
   "outputs": [],
   "source": [
    "# decoding\n",
    "decoder_input = []\n",
    "for line in lines.tar :\n",
    "    temp_X = []\n",
    "    for c in line :\n",
    "        temp_X.append(tar_to_index[c])\n",
    "    decoder_input.append(temp_X)\n",
    "#print(decoder_input[:5])"
   ]
  },
  {
   "cell_type": "code",
   "execution_count": null,
   "id": "1667b2b2",
   "metadata": {},
   "outputs": [],
   "source": [
    "# !!! this code might be not used !!!\n",
    "# remove start symbol of target which is used for test\n",
    "decoder_target = []\n",
    "for line in lines.tar :\n",
    "    t = 0\n",
    "    temp_X = []\n",
    "    for c in line :\n",
    "        if t > 0 :\n",
    "            temp_X.append(tar_to_index[c])\n",
    "        t += 1\n",
    "    decoder_target.append(temp_X)\n",
    "#print(decoder_target[:5])"
   ]
  },
  {
   "cell_type": "code",
   "execution_count": null,
   "id": "75de83e2",
   "metadata": {},
   "outputs": [],
   "source": [
    "# padding\n",
    "max_src_len = max([len(line) for line in lines.src])\n",
    "max_tar_len = max([len(line) for line in lines.tar])\n",
    "#print(max_src_len)\n",
    "#print(max_tar_len)\n",
    "\n",
    "encoder_input = pad_sequences(encoder_input, maxlen=max_src_len, padding='post')\n",
    "decoder_input = pad_sequences(decoder_input, maxlen=max_tar_len, padding='post')\n",
    "decoder_target = pad_sequences(decoder_target, maxlen=max_tar_len, padding='post')"
   ]
  },
  {
   "cell_type": "code",
   "execution_count": null,
   "id": "a7baad53",
   "metadata": {},
   "outputs": [],
   "source": [
    "# one-hot encoding\n",
    "encoder_input = to_categorical(encoder_input)\n",
    "decoder_input = to_categorical(decoder_input)\n",
    "decoder_target = to_categorical(decoder_target)"
   ]
  },
  {
   "cell_type": "code",
   "execution_count": null,
   "id": "74c4d840",
   "metadata": {},
   "outputs": [],
   "source": [
    "# seq2seq model teacher forcing\n",
    "encoder_inputs = Input(shape=(None, src_coordinate_size))\n",
    "# hidden state size is 256, return encoder state to decoder\n",
    "encoder_lstm = LSTM(units=256, return_state=True)\n",
    "# encoder outputs, hidden state, cell state\n",
    "encoder_outputs, state_h, state_c = encoder_lstm(encoder_inputs)\n",
    "encoder_states = [state_h, state_c]\n",
    "\n",
    "decoder_inputs = Input(shape=(None, tar_coordinate_size))\n",
    "decoder_lstm = LSTM(units=256, return_sequences=True, return_state=True)\n",
    "# use last encoder state as initial state\n",
    "decoder_outputs, _, _ = decoder_lstm(decoder_inputs, initial_state=encoder_states)\n",
    "# assign nodes as size of target coordinate\n",
    "decoder_softmax_layer = Dense(tar_coordinate_size, activation='softmax')\n",
    "decoder_outputs = decoder_softmax_layer(decoder_outputs)\n",
    "\n",
    "model = Model([encoder_inputs, decoder_inputs], decoder_outputs)\n",
    "model.compile(optimizer='rmsprop', loss='categorical_crossentropy')\n",
    "\n",
    "MODEL_DIR = './model/'\n",
    "if not os.path.exists(MODEL_DIR) :\n",
    "    os.mkdir(MODEL_DIR)\n",
    "\n",
    "modelpath = './model/{epoch:02d}-{val_loss:.4f}.hdf5'\n",
    "checkpointer = ModelCheckpoint(filepath=modelpath, monitor='val_loss', verbose=1, save_best_only=True)"
   ]
  },
  {
   "cell_type": "code",
   "execution_count": null,
   "id": "897faac9",
   "metadata": {},
   "outputs": [],
   "source": [
    "# !!! control batch_size, epochs to avoid overfitting !!!\n",
    "model.fit(x=[encoder_input, decoder_input], y=decoder_target,\n",
    "          batch_size=64, epochs=40, validation_split=0.2, callbacks=[checkpointer])"
   ]
  },
  {
   "cell_type": "code",
   "execution_count": null,
   "id": "608255b8",
   "metadata": {},
   "outputs": [],
   "source": [
    "#model.save('s2s.h5')"
   ]
  }
 ],
 "metadata": {
  "kernelspec": {
   "display_name": "Python 3 (ipykernel)",
   "language": "python",
   "name": "python3"
  },
  "language_info": {
   "codemirror_mode": {
    "name": "ipython",
    "version": 3
   },
   "file_extension": ".py",
   "mimetype": "text/x-python",
   "name": "python",
   "nbconvert_exporter": "python",
   "pygments_lexer": "ipython3",
   "version": "3.8.11"
  }
 },
 "nbformat": 4,
 "nbformat_minor": 5
}
