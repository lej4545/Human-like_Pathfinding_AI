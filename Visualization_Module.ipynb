{
 "cells": [
  {
   "cell_type": "code",
   "execution_count": null,
   "id": "e1475f75",
   "metadata": {},
   "outputs": [],
   "source": [
    "import os\n",
    "import numpy as np\n",
    "import pandas as pd\n",
    "import tensorflow as tf\n",
    "from tensorflow.keras.models import Model\n",
    "from tensorflow.keras.layers import Input, LSTM, Embedding, Dense\n",
    "from tensorflow.keras.models import load_model\n",
    "\n",
    "# model file path\n",
    "model = load_model('')\n",
    "model.summary()"
   ]
  },
  {
   "cell_type": "code",
   "execution_count": null,
   "id": "9efca2bf",
   "metadata": {},
   "outputs": [],
   "source": [
    "lines = ### src, tar dataset ###\n",
    "#lines"
   ]
  },
  {
   "cell_type": "code",
   "execution_count": null,
   "id": "45574c38",
   "metadata": {},
   "outputs": [],
   "source": [
    "lines = lines.loc[:, 'src':'tar']\n",
    "lines = lines[0:]\n",
    "#lines.sample(10)"
   ]
  },
  {
   "cell_type": "code",
   "execution_count": null,
   "id": "0c901abf",
   "metadata": {},
   "outputs": [],
   "source": [
    "# <sos> '\\t', <eos> '\\n'\n",
    "lines.tar = lines.tar.apply(lambda x : '\\t' + x + '\\n')\n",
    "#lines.sample(10)"
   ]
  },
  {
   "cell_type": "code",
   "execution_count": null,
   "id": "db5ffb59",
   "metadata": {},
   "outputs": [],
   "source": [
    "src_coordinate = set()\n",
    "for line in lines.src :\n",
    "    for i in range(len(line)) :\n",
    "        src_coordinate.add(line[i])\n",
    "\n",
    "src_coordinate_size = len(src_coordinate) + 1\n",
    "\n",
    "encoder_inputs = Input(shape=(None, src_coordinate_size))\n",
    "encoder_lstm = LSTM(units=256, return_state=True)\n",
    "encoder_outputs, state_h, state_c = encoder_lstm(encoder_inputs)\n",
    "encoder_states = [state_h, state_c]"
   ]
  },
  {
   "cell_type": "code",
   "execution_count": null,
   "id": "898cbe2b",
   "metadata": {},
   "outputs": [],
   "source": [
    "# define encoder\n",
    "encoder_model = Model(inputs=encoder_inputs, outputs=encoder_states)\n",
    "\n",
    "decoder_state_input_h = Input(shape=(256,))\n",
    "decoder_state_input_c = Input(shape=(256,))\n",
    "decoder_states_inputs = [decoder_state_input_h, decoder_state_input_c]\n",
    "decoder_outputs, state_h, state_c = decoder_lstm(decoder_inputs, initial_state=decoder_states_inputs)\n",
    "decoder_states = [state_h, state_c]\n",
    "decoder_outputs = decoder_softmax_layer(decoder_outputs)\n",
    "decoder_model = Model(inputs=[decoder_inputs] + decoder_states_inputs,\n",
    "                      outputs=[decoder_inputs] + decoder_states)\n",
    "\n",
    "index_to_src = dict((i, coordinate) for coordinate, i in src_to_index.items())\n",
    "index_to_tar = dict((i, coordinate) for coordinate, i in tar_to_index.items())"
   ]
  },
  {
   "cell_type": "code",
   "execution_count": null,
   "id": "d41b285c",
   "metadata": {},
   "outputs": [],
   "source": [
    "def decode_sequence(input_seq):\n",
    "    # get encoder state from input (map list)\n",
    "    states_value = encoder_model.predict(input_seq)\n",
    "\n",
    "    # create <SOS> one-hot vector\n",
    "    target_seq = np.zeros((1, 1, tar_coordinate_size))\n",
    "    target_seq[0, 0, tar_to_index['\\t']] = 1.\n",
    "\n",
    "    stop_condition = False\n",
    "    decoded_route = \"\"\n",
    "\n",
    "    # while stop_condition is True\n",
    "    while not stop_condition:\n",
    "        # initial state is states_value\n",
    "        output_coordinate, h, c = decoder_model.predict([target_seq] + states_value)\n",
    "\n",
    "        # convert prediction to coordinate\n",
    "        sampled_coordinate_index = np.argmax(output_coordinate[0, -1, :])\n",
    "        sampled_coordinate = index_to_tar[sampled_coordinate_index]\n",
    "\n",
    "        # add current predicted coordinate to prediction route\n",
    "        decoded_route += sampled_coordinate\n",
    "\n",
    "        # stop when sampled_coordinate reach to <eos> or go over length\n",
    "        if (sampled_coordinate == '\\n' or len(decoded_route) > max_tar_len):\n",
    "            stop_condition = True\n",
    "\n",
    "        # store current predicted coordinate for next input\n",
    "        target_seq = np.zeros((1, 1, tar_vocab_size))\n",
    "        target_seq[0, 0, sampled_coordinate_index] = 1.\n",
    "\n",
    "        # store current state for next state\n",
    "        states_value = [h, c]\n",
    "\n",
    "    return decoded_route"
   ]
  },
  {
   "cell_type": "code",
   "execution_count": null,
   "id": "34fda30d",
   "metadata": {},
   "outputs": [],
   "source": [
    "def predict(input_seq) :\n",
    "    reverse_target_coordinate_index = dict((i, coordinate) for coordinate, i in tar_to_index.items())\n",
    "    input_vec = np.zeros(shape=(len(input_seq), max_encoder_seq_length, num_encoder_coordinate), dytpe='float64')\n",
    "    for i, "
   ]
  },
  {
   "cell_type": "code",
   "execution_count": null,
   "id": "623ed665",
   "metadata": {},
   "outputs": [],
   "source": [
    "# enter addresses of start position and destination\n"
   ]
  },
  {
   "cell_type": "code",
   "execution_count": null,
   "id": "b185fa67",
   "metadata": {},
   "outputs": [],
   "source": [
    "# convert addresses to coordinates\n"
   ]
  },
  {
   "cell_type": "code",
   "execution_count": null,
   "id": "8e6fd55e",
   "metadata": {},
   "outputs": [],
   "source": [
    "# get bbox of coordinates to create map array\n",
    "import numpy as np\n",
    "import networkx as nx\n",
    "import osmnx as ox\n",
    "\n",
    "nodes = []\n",
    "def bbox(latmax, latmin, lonmax, lonmin) :\n",
    "    # define a bounding box\n",
    "    north, south, east, west = latmax, latmin, lonmax, lonmin\n",
    "\n",
    "    # create network from that bounding box\n",
    "    # network_type string {\"all_private\", \"all\", \"bike\", \"drive\", \"drive_service\", \"walk\"}\n",
    "    G = ox.graph_from_bbox(north, south, east, west, network_type=\"all\")\n",
    "    \n",
    "    # you can convert your graph to node and edge GeoPandas GeoDataFrames\n",
    "    gdf_nodes, gdf_edges = ox.graph_to_gdfs(G)\n",
    "    \n",
    "    # (latitude, longtitude) list\n",
    "    for i in range(len(gdf_nodes)) :\n",
    "        nodes.append([gdf_nodes['y'].values[i], gdf_nodes['x'].values[i]])\n",
    "    \n",
    "    return nodes"
   ]
  },
  {
   "cell_type": "code",
   "execution_count": null,
   "id": "344f22c4",
   "metadata": {},
   "outputs": [],
   "source": [
    "# model predict\n"
   ]
  },
  {
   "cell_type": "code",
   "execution_count": null,
   "id": "5300095a",
   "metadata": {},
   "outputs": [],
   "source": [
    "# show predicted route\n"
   ]
  },
  {
   "cell_type": "code",
   "execution_count": null,
   "id": "608255b8",
   "metadata": {},
   "outputs": [],
   "source": []
  }
 ],
 "metadata": {
  "kernelspec": {
   "display_name": "Python 3 (ipykernel)",
   "language": "python",
   "name": "python3"
  },
  "language_info": {
   "codemirror_mode": {
    "name": "ipython",
    "version": 3
   },
   "file_extension": ".py",
   "mimetype": "text/x-python",
   "name": "python",
   "nbconvert_exporter": "python",
   "pygments_lexer": "ipython3",
   "version": "3.9.7"
  }
 },
 "nbformat": 4,
 "nbformat_minor": 5
}
