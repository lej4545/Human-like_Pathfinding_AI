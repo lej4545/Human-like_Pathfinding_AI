{
 "cells": [
  {
   "cell_type": "code",
   "execution_count": 1,
   "id": "e1475f75",
   "metadata": {},
   "outputs": [],
   "source": [
    "import os\n",
    "import numpy as np\n",
    "import pandas as pd\n",
    "import tensorflow as tf\n",
    "from tensorflow.keras.models import Model\n",
    "from tensorflow.keras.layers import Input, LSTM, Embedding, Dense\n",
    "from tensorflow.keras.callbacks import ModelCheckpoint\n",
    "from tensorflow.keras.preprocessing.sequence import pad_sequences\n",
    "from tensorflow.keras.utils import to_categorical"
   ]
  },
  {
   "cell_type": "code",
   "execution_count": 2,
   "id": "3cffd9ac",
   "metadata": {
    "scrolled": true
   },
   "outputs": [
    {
     "name": "stdout",
     "output_type": "stream",
     "text": [
      "426\n",
      "426\n"
     ]
    }
   ],
   "source": [
    "src_dataset = np.load(file='user_source.npy', allow_pickle=True)\n",
    "tar_dataset = np.load(file='user_target.npy', allow_pickle=True)\n",
    "\n",
    "print(len(src_dataset))\n",
    "print(len(tar_dataset))"
   ]
  },
  {
   "cell_type": "code",
   "execution_count": 3,
   "id": "d23d6e15",
   "metadata": {
    "scrolled": true
   },
   "outputs": [
    {
     "data": {
      "text/html": [
       "<div>\n",
       "<style scoped>\n",
       "    .dataframe tbody tr th:only-of-type {\n",
       "        vertical-align: middle;\n",
       "    }\n",
       "\n",
       "    .dataframe tbody tr th {\n",
       "        vertical-align: top;\n",
       "    }\n",
       "\n",
       "    .dataframe thead th {\n",
       "        text-align: right;\n",
       "    }\n",
       "</style>\n",
       "<table border=\"1\" class=\"dataframe\">\n",
       "  <thead>\n",
       "    <tr style=\"text-align: right;\">\n",
       "      <th></th>\n",
       "      <th>src</th>\n",
       "      <th>tar</th>\n",
       "    </tr>\n",
       "  </thead>\n",
       "  <tbody>\n",
       "    <tr>\n",
       "      <th>0</th>\n",
       "      <td>[[39.9844254, 116.3101288], [39.9841684, 116.2...</td>\n",
       "      <td>[[39.984702, 116.318417], [39.984683, 116.3184...</td>\n",
       "    </tr>\n",
       "    <tr>\n",
       "      <th>1</th>\n",
       "      <td>[[39.990832, 116.309828], [39.988258, 116.2933...</td>\n",
       "      <td>[[39.995777, 116.286798], [39.996832, 116.2854...</td>\n",
       "    </tr>\n",
       "    <tr>\n",
       "      <th>2</th>\n",
       "      <td>[[40.0087849, 116.3218099], [40.0089858, 116.3...</td>\n",
       "      <td>[[40.008921, 116.321484], [40.008582, 116.3222...</td>\n",
       "    </tr>\n",
       "    <tr>\n",
       "      <th>3</th>\n",
       "      <td>[[40.00815, 116.3204629], [40.0092487, 116.318...</td>\n",
       "      <td>[[40.009351, 116.321916], [40.009336, 116.3218...</td>\n",
       "    </tr>\n",
       "    <tr>\n",
       "      <th>4</th>\n",
       "      <td>[[40.00815, 116.3204629], [40.0088233, 116.321...</td>\n",
       "      <td>[[40.006747, 116.318549], [40.006747, 116.3185...</td>\n",
       "    </tr>\n",
       "  </tbody>\n",
       "</table>\n",
       "</div>"
      ],
      "text/plain": [
       "                                                 src  \\\n",
       "0  [[39.9844254, 116.3101288], [39.9841684, 116.2...   \n",
       "1  [[39.990832, 116.309828], [39.988258, 116.2933...   \n",
       "2  [[40.0087849, 116.3218099], [40.0089858, 116.3...   \n",
       "3  [[40.00815, 116.3204629], [40.0092487, 116.318...   \n",
       "4  [[40.00815, 116.3204629], [40.0088233, 116.321...   \n",
       "\n",
       "                                                 tar  \n",
       "0  [[39.984702, 116.318417], [39.984683, 116.3184...  \n",
       "1  [[39.995777, 116.286798], [39.996832, 116.2854...  \n",
       "2  [[40.008921, 116.321484], [40.008582, 116.3222...  \n",
       "3  [[40.009351, 116.321916], [40.009336, 116.3218...  \n",
       "4  [[40.006747, 116.318549], [40.006747, 116.3185...  "
      ]
     },
     "execution_count": 3,
     "metadata": {},
     "output_type": "execute_result"
    }
   ],
   "source": [
    "src_df = pd.DataFrame({'src':[]})\n",
    "for i in range(len(src_dataset)) :\n",
    "    src_df.loc[i] = [src_dataset[i]]\n",
    "\n",
    "tar_df = pd.DataFrame({'tar':[]})\n",
    "for i in range(len(tar_dataset)) :\n",
    "    tar_df.loc[i] = [tar_dataset[i]]\n",
    "\n",
    "df = pd.concat([src_df, tar_df], axis=1)\n",
    "df.head()"
   ]
  },
  {
   "cell_type": "code",
   "execution_count": 4,
   "id": "24972227",
   "metadata": {},
   "outputs": [
    {
     "data": {
      "text/html": [
       "<div>\n",
       "<style scoped>\n",
       "    .dataframe tbody tr th:only-of-type {\n",
       "        vertical-align: middle;\n",
       "    }\n",
       "\n",
       "    .dataframe tbody tr th {\n",
       "        vertical-align: top;\n",
       "    }\n",
       "\n",
       "    .dataframe thead th {\n",
       "        text-align: right;\n",
       "    }\n",
       "</style>\n",
       "<table border=\"1\" class=\"dataframe\">\n",
       "  <thead>\n",
       "    <tr style=\"text-align: right;\">\n",
       "      <th></th>\n",
       "      <th>src</th>\n",
       "      <th>tar</th>\n",
       "    </tr>\n",
       "  </thead>\n",
       "  <tbody>\n",
       "    <tr>\n",
       "      <th>0</th>\n",
       "      <td>[[39.9844254, 116.3101288], [39.9841684, 116.2...</td>\n",
       "      <td>[[0, 0], [39.984702, 116.318417], [39.984683, ...</td>\n",
       "    </tr>\n",
       "    <tr>\n",
       "      <th>1</th>\n",
       "      <td>[[39.990832, 116.309828], [39.988258, 116.2933...</td>\n",
       "      <td>[[0, 0], [39.995777, 116.286798], [39.996832, ...</td>\n",
       "    </tr>\n",
       "    <tr>\n",
       "      <th>2</th>\n",
       "      <td>[[40.0087849, 116.3218099], [40.0089858, 116.3...</td>\n",
       "      <td>[[0, 0], [40.008921, 116.321484], [40.008582, ...</td>\n",
       "    </tr>\n",
       "    <tr>\n",
       "      <th>3</th>\n",
       "      <td>[[40.00815, 116.3204629], [40.0092487, 116.318...</td>\n",
       "      <td>[[0, 0], [40.009351, 116.321916], [40.009336, ...</td>\n",
       "    </tr>\n",
       "    <tr>\n",
       "      <th>4</th>\n",
       "      <td>[[40.00815, 116.3204629], [40.0088233, 116.321...</td>\n",
       "      <td>[[0, 0], [40.006747, 116.318549], [40.006747, ...</td>\n",
       "    </tr>\n",
       "  </tbody>\n",
       "</table>\n",
       "</div>"
      ],
      "text/plain": [
       "                                                 src  \\\n",
       "0  [[39.9844254, 116.3101288], [39.9841684, 116.2...   \n",
       "1  [[39.990832, 116.309828], [39.988258, 116.2933...   \n",
       "2  [[40.0087849, 116.3218099], [40.0089858, 116.3...   \n",
       "3  [[40.00815, 116.3204629], [40.0092487, 116.318...   \n",
       "4  [[40.00815, 116.3204629], [40.0088233, 116.321...   \n",
       "\n",
       "                                                 tar  \n",
       "0  [[0, 0], [39.984702, 116.318417], [39.984683, ...  \n",
       "1  [[0, 0], [39.995777, 116.286798], [39.996832, ...  \n",
       "2  [[0, 0], [40.008921, 116.321484], [40.008582, ...  \n",
       "3  [[0, 0], [40.009351, 116.321916], [40.009336, ...  \n",
       "4  [[0, 0], [40.006747, 116.318549], [40.006747, ...  "
      ]
     },
     "execution_count": 4,
     "metadata": {},
     "output_type": "execute_result"
    }
   ],
   "source": [
    "# <SOS> [0, 0], <EOS> [-1, -1]\n",
    "for tar in df.tar :\n",
    "    tar.insert(0, [0, 0])\n",
    "    tar.insert(len(tar), [-1, -1])\n",
    "df.head()"
   ]
  },
  {
   "cell_type": "code",
   "execution_count": 5,
   "id": "4ae46013",
   "metadata": {},
   "outputs": [],
   "source": [
    "encoder_input = []\n",
    "for sequence in df.src :\n",
    "    encoder_input.append(sequence)\n",
    "\n",
    "decoder_input = []\n",
    "for sequence in df.tar :\n",
    "    decoder_input.append(sequence[:-1])\n",
    "\n",
    "decoder_target = []\n",
    "for sequence in df.tar :\n",
    "    decoder_target.append(sequence[1:])"
   ]
  },
  {
   "cell_type": "code",
   "execution_count": 6,
   "id": "3a257adc",
   "metadata": {},
   "outputs": [],
   "source": [
    "# padding\n",
    "encoder_input = pad_sequences(encoder_input, padding='post')\n",
    "decoder_input = pad_sequences(decoder_input, padding='post')\n",
    "decoder_target = pad_sequences(decoder_target, padding='post')"
   ]
  },
  {
   "cell_type": "code",
   "execution_count": 7,
   "id": "792cfb47",
   "metadata": {},
   "outputs": [
    {
     "name": "stdout",
     "output_type": "stream",
     "text": [
      "(426, 14934, 2)\n",
      "(426, 1490, 2)\n",
      "(426, 1490, 2)\n"
     ]
    }
   ],
   "source": [
    "# 426 samples, length of src is 14934, length of tar is 1490\n",
    "print(np.shape(encoder_input))\n",
    "print(np.shape(decoder_input))\n",
    "print(np.shape(decoder_target))"
   ]
  },
  {
   "cell_type": "code",
   "execution_count": null,
   "id": "c12c2df4",
   "metadata": {},
   "outputs": [],
   "source": []
  }
 ],
 "metadata": {
  "kernelspec": {
   "display_name": "Python 3 (ipykernel)",
   "language": "python",
   "name": "python3"
  },
  "language_info": {
   "codemirror_mode": {
    "name": "ipython",
    "version": 3
   },
   "file_extension": ".py",
   "mimetype": "text/x-python",
   "name": "python",
   "nbconvert_exporter": "python",
   "pygments_lexer": "ipython3",
   "version": "3.8.11"
  }
 },
 "nbformat": 4,
 "nbformat_minor": 5
}
